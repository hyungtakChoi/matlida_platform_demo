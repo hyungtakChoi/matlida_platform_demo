{
 "cells": [
  {
   "cell_type": "code",
   "execution_count": 8,
   "id": "93bc5369-2f04-43bc-949d-658f8811c959",
   "metadata": {},
   "outputs": [
    {
     "name": "stdout",
     "output_type": "stream",
     "text": [
      "(1, 256, 256, 3)\n"
     ]
    }
   ],
   "source": [
    "import time\n",
    "from absl import app, flags, logging\n",
    "from absl.flags import FLAGS\n",
    "import cv2\n",
    "import numpy as np\n",
    "import tensorflow as tf\n",
    "from yolov3_tf2.models import (\n",
    "    YoloV3, YoloV3Tiny\n",
    ")\n",
    "from yolov3_tf2.dataset import transform_images, load_tfrecord_dataset\n",
    "from yolov3_tf2.utils import draw_outputs\n",
    "import requests\n",
    "import json\n",
    "\n",
    "img_path = '/home/jovyan/matlida_platform_demo/brain_dataset/test_input_1.jpg'\n",
    "img_raw = tf.image.decode_image(\n",
    "    open(img_path, 'rb').read(), channels=3)\n",
    "\n",
    "img = tf.expand_dims(img_raw, 0)\n",
    "img = transform_images(img, 256)\n",
    "print(img.shape)\n",
    "img = img.numpy().tolist()\n",
    "\n",
    "data = json.dumps({\"inputs\": img})"
   ]
  },
  {
   "cell_type": "code",
   "execution_count": 9,
   "id": "3b19783a-278a-43e1-b245-ede238682fc3",
   "metadata": {},
   "outputs": [
    {
     "name": "stdout",
     "output_type": "stream",
     "text": [
      "<Response [200]>\n",
      "['negative', 'positive']\n"
     ]
    }
   ],
   "source": [
    "model_serve_url = \"input_your_endpoint\"\n",
    "\n",
    "res_svc = requests.post(model_serve_url, data)\n",
    "print(res_svc)\n",
    "class_names = [c.strip() for c in open('/home/jovyan/matlida_platform_demo/brain_dataset/class.txt').readlines()]\n",
    "print(class_names)"
   ]
  },
  {
   "cell_type": "code",
   "execution_count": 14,
   "id": "a383e508-6428-42ac-a74d-7e16a4815a2f",
   "metadata": {},
   "outputs": [
    {
     "name": "stdout",
     "output_type": "stream",
     "text": [
      "dict_keys(['yolo_nms_1', 'yolo_nms_2', 'yolo_nms_3', 'yolo_nms'])\n",
      "\tpositive, 0.578840494, [0.31247583, 0.561915398, 0.454335183, 0.694901]\n"
     ]
    }
   ],
   "source": [
    "output_data = json.loads(res_svc.text)\n",
    "print(output_data['outputs'].keys())\n",
    "\n",
    "boxes = output_data['outputs']['yolo_nms']\n",
    "scores = output_data['outputs']['yolo_nms_1']\n",
    "classes = output_data['outputs']['yolo_nms_2']\n",
    "nums = output_data['outputs']['yolo_nms_3']\n",
    "\n",
    "for i in range(nums[0]):\n",
    "    print('\\t{}, {}, {}'.format(class_names[int(classes[0][i])],scores[0][i],boxes[0][i]))\n",
    "    \n"
   ]
  },
  {
   "cell_type": "code",
   "execution_count": 18,
   "id": "42600e86-3b41-44d9-bb6d-5cbfe0f493c9",
   "metadata": {},
   "outputs": [
    {
     "name": "stdout",
     "output_type": "stream",
     "text": [
      "draw_outputs\n",
      "1\n",
      "(100, 4)\n",
      "[192 256]\n",
      "(59, 143)\n",
      "(87, 177)\n"
     ]
    },
    {
     "data": {
      "text/plain": [
       "True"
      ]
     },
     "execution_count": 18,
     "metadata": {},
     "output_type": "execute_result"
    }
   ],
   "source": [
    "img = cv2.cvtColor(img_raw.numpy(), cv2.COLOR_RGB2BGR)\n",
    "img = draw_outputs(img, (np.array(boxes), scores, classes, nums), class_names)\n",
    "cv2.imwrite('./serve_output.jpg', img)"
   ]
  },
  {
   "cell_type": "code",
   "execution_count": null,
   "id": "30f15085-2bed-4dee-9a28-e5e3e922e948",
   "metadata": {},
   "outputs": [],
   "source": []
  }
 ],
 "metadata": {
  "kernelspec": {
   "display_name": "Python 3",
   "language": "python",
   "name": "python3"
  },
  "language_info": {
   "codemirror_mode": {
    "name": "ipython",
    "version": 3
   },
   "file_extension": ".py",
   "mimetype": "text/x-python",
   "name": "python",
   "nbconvert_exporter": "python",
   "pygments_lexer": "ipython3",
   "version": "3.8.10"
  }
 },
 "nbformat": 4,
 "nbformat_minor": 5
}
